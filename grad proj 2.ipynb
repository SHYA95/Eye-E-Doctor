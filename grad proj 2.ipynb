{
 "cells": [
  {
   "cell_type": "code",
   "execution_count": 1,
   "id": "32732cf5",
   "metadata": {},
   "outputs": [],
   "source": [
    "import numpy as np\n",
    "import matplotlib.pyplot as plt\n",
    "import os\n",
    "import cv2\n",
    "import tensorflow as tf\n",
    "from tensorflow import keras\n",
    "import glob\n",
    "from skimage import io\n"
   ]
  },
  {
   "cell_type": "code",
   "execution_count": 54,
   "id": "33adabc8",
   "metadata": {},
   "outputs": [],
   "source": [
    "train_path=\"D:/data re 3/train\"\n",
    "valid_path=\"D:/data re 3/val\""
   ]
  },
  {
   "cell_type": "code",
   "execution_count": 55,
   "id": "5a2e493d",
   "metadata": {},
   "outputs": [],
   "source": [
    "from keras.preprocessing.image import ImageDataGenerator"
   ]
  },
  {
   "cell_type": "code",
   "execution_count": 56,
   "id": "15c24de3",
   "metadata": {},
   "outputs": [
    {
     "name": "stdout",
     "output_type": "stream",
     "text": [
      "Found 523 images belonging to 3 classes.\n",
      "Found 169 images belonging to 3 classes.\n"
     ]
    }
   ],
   "source": [
    "train_batches= ImageDataGenerator(preprocessing_function=tf.keras.applications.mobilenet.preprocess_input).flow_from_directory(directory=train_path,target_size=(224,224),batch_size=10)\n",
    "validation_batches= ImageDataGenerator(preprocessing_function=tf.keras.applications.mobilenet.preprocess_input).flow_from_directory(directory=valid_path, target_size=(224,224),batch_size=10)"
   ]
  },
  {
   "cell_type": "code",
   "execution_count": 58,
   "id": "56725793",
   "metadata": {},
   "outputs": [],
   "source": [
    "img,labels=next(train_batches)"
   ]
  },
  {
   "cell_type": "code",
   "execution_count": 59,
   "id": "12ba9f70",
   "metadata": {},
   "outputs": [],
   "source": [
    "from tensorflow.keras.applications import vgg16"
   ]
  },
  {
   "cell_type": "code",
   "execution_count": 60,
   "id": "5a84aa3b",
   "metadata": {},
   "outputs": [],
   "source": [
    "vgg16_model=vgg16.VGG16(\n",
    "    include_top=False,\n",
    "    weights='imagenet',\n",
    "    input_shape=(224,224,3),\n",
    "    classes=3\n",
    ")"
   ]
  },
  {
   "cell_type": "code",
   "execution_count": 61,
   "id": "28b8290a",
   "metadata": {},
   "outputs": [
    {
     "name": "stdout",
     "output_type": "stream",
     "text": [
      "Model: \"vgg16\"\n",
      "_________________________________________________________________\n",
      " Layer (type)                Output Shape              Param #   \n",
      "=================================================================\n",
      " input_4 (InputLayer)        [(None, 224, 224, 3)]     0         \n",
      "                                                                 \n",
      " block1_conv1 (Conv2D)       (None, 224, 224, 64)      1792      \n",
      "                                                                 \n",
      " block1_conv2 (Conv2D)       (None, 224, 224, 64)      36928     \n",
      "                                                                 \n",
      " block1_pool (MaxPooling2D)  (None, 112, 112, 64)      0         \n",
      "                                                                 \n",
      " block2_conv1 (Conv2D)       (None, 112, 112, 128)     73856     \n",
      "                                                                 \n",
      " block2_conv2 (Conv2D)       (None, 112, 112, 128)     147584    \n",
      "                                                                 \n",
      " block2_pool (MaxPooling2D)  (None, 56, 56, 128)       0         \n",
      "                                                                 \n",
      " block3_conv1 (Conv2D)       (None, 56, 56, 256)       295168    \n",
      "                                                                 \n",
      " block3_conv2 (Conv2D)       (None, 56, 56, 256)       590080    \n",
      "                                                                 \n",
      " block3_conv3 (Conv2D)       (None, 56, 56, 256)       590080    \n",
      "                                                                 \n",
      " block3_pool (MaxPooling2D)  (None, 28, 28, 256)       0         \n",
      "                                                                 \n",
      " block4_conv1 (Conv2D)       (None, 28, 28, 512)       1180160   \n",
      "                                                                 \n",
      " block4_conv2 (Conv2D)       (None, 28, 28, 512)       2359808   \n",
      "                                                                 \n",
      " block4_conv3 (Conv2D)       (None, 28, 28, 512)       2359808   \n",
      "                                                                 \n",
      " block4_pool (MaxPooling2D)  (None, 14, 14, 512)       0         \n",
      "                                                                 \n",
      " block5_conv1 (Conv2D)       (None, 14, 14, 512)       2359808   \n",
      "                                                                 \n",
      " block5_conv2 (Conv2D)       (None, 14, 14, 512)       2359808   \n",
      "                                                                 \n",
      " block5_conv3 (Conv2D)       (None, 14, 14, 512)       2359808   \n",
      "                                                                 \n",
      " block5_pool (MaxPooling2D)  (None, 7, 7, 512)         0         \n",
      "                                                                 \n",
      "=================================================================\n",
      "Total params: 14,714,688\n",
      "Trainable params: 14,714,688\n",
      "Non-trainable params: 0\n",
      "_________________________________________________________________\n"
     ]
    }
   ],
   "source": [
    "vgg16_model.summary()"
   ]
  },
  {
   "cell_type": "code",
   "execution_count": 62,
   "id": "7cd635e7",
   "metadata": {},
   "outputs": [],
   "source": [
    "model=keras.Sequential()\n",
    "for layer in vgg16_model.layers:\n",
    "    layer.trainable=False\n",
    "    model.add(layer)"
   ]
  },
  {
   "cell_type": "code",
   "execution_count": 63,
   "id": "557d598e",
   "metadata": {},
   "outputs": [],
   "source": [
    "model.add(keras.layers.Flatten())\n",
    "model.add(keras.layers.Dense(512, activation='relu'))\n",
    "model.add(keras.layers.Dropout(0.5))\n",
    "model.add(keras.layers.Dense(3,activation='sigmoid'))"
   ]
  },
  {
   "cell_type": "code",
   "execution_count": 64,
   "id": "56470bbf",
   "metadata": {},
   "outputs": [
    {
     "name": "stdout",
     "output_type": "stream",
     "text": [
      "Model: \"sequential_3\"\n",
      "_________________________________________________________________\n",
      " Layer (type)                Output Shape              Param #   \n",
      "=================================================================\n",
      " block1_conv1 (Conv2D)       (None, 224, 224, 64)      1792      \n",
      "                                                                 \n",
      " block1_conv2 (Conv2D)       (None, 224, 224, 64)      36928     \n",
      "                                                                 \n",
      " block1_pool (MaxPooling2D)  (None, 112, 112, 64)      0         \n",
      "                                                                 \n",
      " block2_conv1 (Conv2D)       (None, 112, 112, 128)     73856     \n",
      "                                                                 \n",
      " block2_conv2 (Conv2D)       (None, 112, 112, 128)     147584    \n",
      "                                                                 \n",
      " block2_pool (MaxPooling2D)  (None, 56, 56, 128)       0         \n",
      "                                                                 \n",
      " block3_conv1 (Conv2D)       (None, 56, 56, 256)       295168    \n",
      "                                                                 \n",
      " block3_conv2 (Conv2D)       (None, 56, 56, 256)       590080    \n",
      "                                                                 \n",
      " block3_conv3 (Conv2D)       (None, 56, 56, 256)       590080    \n",
      "                                                                 \n",
      " block3_pool (MaxPooling2D)  (None, 28, 28, 256)       0         \n",
      "                                                                 \n",
      " block4_conv1 (Conv2D)       (None, 28, 28, 512)       1180160   \n",
      "                                                                 \n",
      " block4_conv2 (Conv2D)       (None, 28, 28, 512)       2359808   \n",
      "                                                                 \n",
      " block4_conv3 (Conv2D)       (None, 28, 28, 512)       2359808   \n",
      "                                                                 \n",
      " block4_pool (MaxPooling2D)  (None, 14, 14, 512)       0         \n",
      "                                                                 \n",
      " block5_conv1 (Conv2D)       (None, 14, 14, 512)       2359808   \n",
      "                                                                 \n",
      " block5_conv2 (Conv2D)       (None, 14, 14, 512)       2359808   \n",
      "                                                                 \n",
      " block5_conv3 (Conv2D)       (None, 14, 14, 512)       2359808   \n",
      "                                                                 \n",
      " block5_pool (MaxPooling2D)  (None, 7, 7, 512)         0         \n",
      "                                                                 \n",
      " flatten_5 (Flatten)         (None, 25088)             0         \n",
      "                                                                 \n",
      " dense_8 (Dense)             (None, 512)               12845568  \n",
      "                                                                 \n",
      " dropout_4 (Dropout)         (None, 512)               0         \n",
      "                                                                 \n",
      " dense_9 (Dense)             (None, 3)                 1539      \n",
      "                                                                 \n",
      "=================================================================\n",
      "Total params: 27,561,795\n",
      "Trainable params: 12,847,107\n",
      "Non-trainable params: 14,714,688\n",
      "_________________________________________________________________\n"
     ]
    }
   ],
   "source": [
    "model.summary()"
   ]
  },
  {
   "cell_type": "code",
   "execution_count": 65,
   "id": "fd2c74e4",
   "metadata": {},
   "outputs": [],
   "source": [
    "model.compile(optimizer='adam',loss='categorical_crossentropy',metrics=['accuracy'])"
   ]
  },
  {
   "cell_type": "code",
   "execution_count": null,
   "id": "6177aad5",
   "metadata": {},
   "outputs": [
    {
     "name": "stdout",
     "output_type": "stream",
     "text": [
      "Epoch 1/20\n",
      "53/53 [==============================] - 71s 1s/step - loss: 2.6313 - accuracy: 0.6960 - val_loss: 5.5728 - val_accuracy: 0.4400\n",
      "Epoch 2/20\n",
      "53/53 [==============================] - 72s 1s/step - loss: 0.2996 - accuracy: 0.9120 - val_loss: 4.8087 - val_accuracy: 0.5800\n",
      "Epoch 3/20\n",
      "53/53 [==============================] - 73s 1s/step - loss: 0.2319 - accuracy: 0.9273 - val_loss: 3.7984 - val_accuracy: 0.4600\n",
      "Epoch 4/20\n",
      "53/53 [==============================] - 73s 1s/step - loss: 0.1538 - accuracy: 0.9503 - val_loss: 5.1920 - val_accuracy: 0.3200\n",
      "Epoch 5/20\n",
      "53/53 [==============================] - 72s 1s/step - loss: 0.1081 - accuracy: 0.9656 - val_loss: 4.1782 - val_accuracy: 0.4200\n",
      "Epoch 6/20\n",
      "53/53 [==============================] - 74s 1s/step - loss: 0.1005 - accuracy: 0.9618 - val_loss: 6.0662 - val_accuracy: 0.3000\n",
      "Epoch 7/20\n",
      "53/53 [==============================] - 73s 1s/step - loss: 0.0493 - accuracy: 0.9866 - val_loss: 6.3465 - val_accuracy: 0.2800\n",
      "Epoch 8/20\n",
      "53/53 [==============================] - 73s 1s/step - loss: 0.0108 - accuracy: 0.9981 - val_loss: 4.9498 - val_accuracy: 0.4400\n",
      "Epoch 9/20\n",
      "53/53 [==============================] - 71s 1s/step - loss: 0.0124 - accuracy: 0.9962 - val_loss: 5.5504 - val_accuracy: 0.3800\n",
      "Epoch 10/20\n",
      "53/53 [==============================] - 70s 1s/step - loss: 0.0079 - accuracy: 0.9981 - val_loss: 5.8380 - val_accuracy: 0.4000\n",
      "Epoch 11/20\n",
      "53/53 [==============================] - 73s 1s/step - loss: 0.0049 - accuracy: 1.0000 - val_loss: 5.1218 - val_accuracy: 0.4200\n",
      "Epoch 12/20\n",
      "53/53 [==============================] - 69s 1s/step - loss: 0.0042 - accuracy: 0.9981 - val_loss: 7.2956 - val_accuracy: 0.3400\n",
      "Epoch 13/20\n",
      "53/53 [==============================] - 69s 1s/step - loss: 0.0114 - accuracy: 0.9981 - val_loss: 5.7118 - val_accuracy: 0.4400\n",
      "Epoch 14/20\n",
      "19/53 [=========>....................] - ETA: 40s - loss: 0.0109 - accuracy: 1.0000"
     ]
    }
   ],
   "source": [
    "\n",
    "history=model.fit(train_batches,validation_data=validation_batches,validation_steps=5,epochs=20,verbose=1,batch_size=15)"
   ]
  },
  {
   "cell_type": "code",
   "execution_count": null,
   "id": "28f01afa",
   "metadata": {},
   "outputs": [],
   "source": [
    "predic = model.predict(im)\n",
    "y_predict =predic.argmax(axis=-1)\n",
    "import matplotlib.pyplot as plt\n",
    "acc = history.history['acc']\n",
    "val_acc= history.history['val_acc']\n",
    "loss= history.history['loss']\n",
    "val_loss=history.history"
   ]
  }
 ],
 "metadata": {
  "kernelspec": {
   "display_name": "Python 3 (ipykernel)",
   "language": "python",
   "name": "python3"
  },
  "language_info": {
   "codemirror_mode": {
    "name": "ipython",
    "version": 3
   },
   "file_extension": ".py",
   "mimetype": "text/x-python",
   "name": "python",
   "nbconvert_exporter": "python",
   "pygments_lexer": "ipython3",
   "version": "3.9.12"
  }
 },
 "nbformat": 4,
 "nbformat_minor": 5
}
